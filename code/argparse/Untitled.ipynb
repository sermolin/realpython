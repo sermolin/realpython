{
 "cells": [
  {
   "cell_type": "code",
   "execution_count": 1,
   "metadata": {},
   "outputs": [],
   "source": [
    "# example of argument parsing"
   ]
  },
  {
   "cell_type": "code",
   "execution_count": 12,
   "metadata": {},
   "outputs": [
    {
     "name": "stderr",
     "output_type": "stream",
     "text": [
      "usage: ipykernel_launcher.py [-h] path\n",
      "ipykernel_launcher.py: error: unrecognized arguments: -f\n"
     ]
    },
    {
     "ename": "SystemExit",
     "evalue": "2",
     "output_type": "error",
     "traceback": [
      "An exception has occurred, use %tb to see the full traceback.\n",
      "\u001b[0;31mSystemExit\u001b[0m\u001b[0;31m:\u001b[0m 2\n"
     ]
    }
   ],
   "source": [
    "# myls.py\n",
    "# Import the argparse library\n",
    "import argparse\n",
    "\n",
    "import os\n",
    "import sys\n",
    "\n",
    "# Create the parser\n",
    "my_parser = argparse.ArgumentParser(description='List the content of a folder')\n",
    "\n",
    "# Add the arguments\n",
    "my_parser.add_argument('Path',\n",
    "                       metavar='path',\n",
    "                       type=str,\n",
    "                       help='the path to list')\n",
    "\n",
    "# Execute the parse_args() method\n",
    "args = my_parser.parse_args()\n",
    "\n",
    "print(args)\n",
    "\n",
    "input_path = args.Path\n",
    "\n",
    "if not os.path.isdir(input_path):\n",
    "    print('The path specified does not exist')\n",
    "    sys.exit()\n",
    "\n",
    "print('\\n'.join(os.listdir(input_path)))"
   ]
  },
  {
   "cell_type": "code",
   "execution_count": 13,
   "metadata": {},
   "outputs": [
    {
     "name": "stdout",
     "output_type": "stream",
     "text": [
      "/Users/ermolins/Documents/WORK/Training/RealPython/code/argparse\r\n",
      "Untitled.ipynb\r\n",
      ".ipynb_checkpoints\r\n",
      "myls.py\r\n"
     ]
    }
   ],
   "source": [
    "!python myls.py /Users/ermolins/Documents/WORK/Training/RealPython/code/argparse"
   ]
  },
  {
   "cell_type": "code",
   "execution_count": null,
   "metadata": {},
   "outputs": [],
   "source": []
  },
  {
   "cell_type": "code",
   "execution_count": 21,
   "metadata": {},
   "outputs": [
    {
     "name": "stdout",
     "output_type": "stream",
     "text": [
      "test03\r\n",
      "1000\r\n"
     ]
    }
   ],
   "source": [
    "!python args_test.py test03 1000\n"
   ]
  },
  {
   "cell_type": "code",
   "execution_count": null,
   "metadata": {},
   "outputs": [],
   "source": []
  }
 ],
 "metadata": {
  "kernelspec": {
   "display_name": "Python 3",
   "language": "python",
   "name": "python3"
  },
  "language_info": {
   "codemirror_mode": {
    "name": "ipython",
    "version": 3
   },
   "file_extension": ".py",
   "mimetype": "text/x-python",
   "name": "python",
   "nbconvert_exporter": "python",
   "pygments_lexer": "ipython3",
   "version": "3.7.4"
  }
 },
 "nbformat": 4,
 "nbformat_minor": 2
}
