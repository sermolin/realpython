{
 "cells": [
  {
   "cell_type": "code",
   "execution_count": 17,
   "metadata": {},
   "outputs": [],
   "source": [
    "import numpy as np\n",
    "import matplotlib.pyplot as plt"
   ]
  },
  {
   "cell_type": "code",
   "execution_count": 36,
   "metadata": {},
   "outputs": [],
   "source": [
    "from IPython.display import Latex"
   ]
  },
  {
   "cell_type": "code",
   "execution_count": 53,
   "metadata": {},
   "outputs": [
    {
     "data": {
      "text/latex": [
       "\n",
       "$$f(n) = e^{2x} + 10x - 100x^2$$\n"
      ],
      "text/plain": [
       "<IPython.core.display.Latex object>"
      ]
     },
     "metadata": {},
     "output_type": "display_data"
    }
   ],
   "source": [
    "%%latex\n",
    "\n",
    "$$f(n) = e^{2x} + 10x - 100x^2$$"
   ]
  },
  {
   "cell_type": "markdown",
   "metadata": {},
   "source": [
    "#We can use np.exp() to plot \n",
    "#A more generic power function is np.power(_base_, _exponent_), eg: np.power(0.8, x).\n",
    "#For our example, it would degenerate into np.power(exp(1), x)"
   ]
  },
  {
   "cell_type": "code",
   "execution_count": 35,
   "metadata": {},
   "outputs": [
    {
     "data": {
      "image/png": "[encoded data removed]",
      "text/plain": [
       "<Figure size 432x288 with 1 Axes>"
      ]
     },
     "metadata": {
      "needs_background": "light"
     },
     "output_type": "display_data"
    }
   ],
   "source": [
    "# evenly sampled time at 200ms intervals\n",
    "x = np.arange(0., 10.0, 0.2)\n",
    "\n",
    "# red dashes\n",
    "plt.plot(x, x**2 + 2*x + 2, 'g--')\n",
    "plt.plot(x, x**3, 'r^')\n",
    "plt.plot(x, x*4 - 3, 'b')\n",
    "plt.plot(x, np.exp(x))\n",
    "\n",
    "plt.xlabel(\"My Inputs\")\n",
    "plt.ylabel(\"My Outputs\")\n",
    "plt.title(\"My Graph\")\n",
    "plt.show()"
   ]
  },
  {
   "cell_type": "code",
   "execution_count": null,
   "metadata": {},
   "outputs": [],
   "source": [
    "#assignment 2"
   ]
  },
  {
   "cell_type": "code",
   "execution_count": 58,
   "metadata": {},
   "outputs": [
    {
     "name": "stdout",
     "output_type": "stream",
     "text": [
      "True\n",
      "True\n"
     ]
    }
   ],
   "source": [
    "binary_output = 1\n",
    "print (bool(binary_output))\n",
    "\n",
    "\n",
    "if (binary_output == 1):\n",
    "    circuit_output = True\n",
    "else:\n",
    "    circuit_output = False\n",
    "\n",
    "print(circuit_output)"
   ]
  },
  {
   "cell_type": "code",
   "execution_count": 61,
   "metadata": {},
   "outputs": [
    {
     "name": "stdout",
     "output_type": "stream",
     "text": [
      "True\n",
      "False\n"
     ]
    }
   ],
   "source": [
    "binary_output = 1.5\n",
    "circuit_output = bool(binary_output)\n",
    "print(circuit_output)\n",
    "\n",
    "binary_output = 0\n",
    "circuit_output = bool(binary_output)\n",
    "print(circuit_output)"
   ]
  },
  {
   "cell_type": "code",
   "execution_count": 62,
   "metadata": {},
   "outputs": [
    {
     "data": {
      "text/plain": [
       "True"
      ]
     },
     "execution_count": 62,
     "metadata": {},
     "output_type": "execute_result"
    }
   ],
   "source": [
    "bool(1)"
   ]
  },
  {
   "cell_type": "code",
   "execution_count": 64,
   "metadata": {},
   "outputs": [
    {
     "name": "stdout",
     "output_type": "stream",
     "text": [
      "-1\n"
     ]
    }
   ],
   "source": [
    "print (~binary_output)"
   ]
  },
  {
   "cell_type": "markdown",
   "metadata": {},
   "source": [
    "### problem_2\n",
    "![Navigate to Sagemaker Service](Ass_2_problem_2_image.png)"
   ]
  },
  {
   "cell_type": "code",
   "execution_count": 71,
   "metadata": {},
   "outputs": [
    {
     "name": "stdout",
     "output_type": "stream",
     "text": [
      "0 0 0 True\n",
      "0 0 1 False\n",
      "0 1 0 True\n",
      "0 1 1 False\n",
      "1 0 0 True\n",
      "1 0 1 False\n",
      "1 1 0 True\n",
      "1 1 1 False\n"
     ]
    }
   ],
   "source": [
    "def or_gate(in_1, in_2):\n",
    "    if (in_1 == 0 and in_2 == 0):\n",
    "        return (0)\n",
    "    else:\n",
    "        return (1)\n",
    "\n",
    "def and_gate(in_1, in_2):\n",
    "    if (in_1 == 1 and in_2 == 1):\n",
    "        return (1)\n",
    "    else:\n",
    "        return (0)\n",
    "\n",
    "def inverter_gate(in_1):\n",
    "    if (in_1 == 1):\n",
    "        return (0)\n",
    "    else:\n",
    "        return (1)\n",
    "\n",
    "def circuit_Z (A, B, C):\n",
    "    X = and_gate(A, B)\n",
    "    Y = or_gate(X, C)\n",
    "    return (Y)\n",
    "\n",
    "def circuit (A, B, C):\n",
    "    Z = circuit_Z (A, B, C)\n",
    "    binary_output = or_gate(inverter_gate(C), inverter_gate(Z))\n",
    "    return bool(binary_output)\n",
    "\n",
    "#All testing code should be inside this if statement\n",
    "if __name__==\"__main__\":\n",
    "\n",
    "    print(0,0,0,circuit(0,0,0))\n",
    "    print(0,0,1,circuit(0,0,1))\n",
    "    print(0,1,0,circuit(0,1,0))\n",
    "    print(0,1,1,circuit(0,1,1))\n",
    "    print(1,0,0,circuit(1,0,0))\n",
    "    print(1,0,1,circuit(1,0,1))\n",
    "    print(1,1,0,circuit(1,1,0))\n",
    "    print(1,1,1,circuit(1,1,1))\n",
    "    "
   ]
  },
  {
   "cell_type": "raw",
   "metadata": {},
   "source": [
    "Output circuit.py\n",
    "0 0 0 True\n",
    "0 0 1 False\n",
    "0 1 0 True\n",
    "0 1 1 False\n",
    "1 0 0 True\n",
    "1 0 1 False\n",
    "1 1 0 True\n",
    "1 1 1 False\n",
    "Programming Problem"
   ]
  },
  {
   "cell_type": "code",
   "execution_count": 72,
   "metadata": {},
   "outputs": [
    {
     "name": "stdout",
     "output_type": "stream",
     "text": [
      "0 0 0 True\n",
      "0 0 1 False\n",
      "0 1 0 True\n",
      "0 1 1 False\n",
      "1 0 0 True\n",
      "1 0 1 False\n",
      "1 1 0 True\n",
      "1 1 1 False\n"
     ]
    }
   ],
   "source": [
    "#another code structure:\n",
    "def or_gate(in_1, in_2):\n",
    "    if (in_1 == 0 and in_2 == 0):\n",
    "        return (0)\n",
    "    else:\n",
    "        return (1)\n",
    "\n",
    "def and_gate(in_1, in_2):\n",
    "    if (in_1 == 1 and in_2 == 1):\n",
    "        return (1)\n",
    "    else:\n",
    "        return (0)\n",
    "\n",
    "def inverter_gate(in_1):\n",
    "    if (in_1 == 1):\n",
    "        return (0)\n",
    "    else:\n",
    "        return (1)\n",
    "\n",
    "\n",
    "def circuit (A, B, C):\n",
    "    \n",
    "    def circuit_Z (A, B, C):\n",
    "        X = and_gate(A, B)\n",
    "        Y = or_gate(X, C)\n",
    "        return (Y)\n",
    "    \n",
    "    Z = circuit_Z (A, B, C)\n",
    "    binary_output = or_gate(inverter_gate(C), inverter_gate(Z))\n",
    "    return bool(binary_output)\n",
    "\n",
    "#All testing code should be inside this if statement\n",
    "if __name__==\"__main__\":\n",
    "\n",
    "    print(0,0,0,circuit(0,0,0))\n",
    "    print(0,0,1,circuit(0,0,1))\n",
    "    print(0,1,0,circuit(0,1,0))\n",
    "    print(0,1,1,circuit(0,1,1))\n",
    "    print(1,0,0,circuit(1,0,0))\n",
    "    print(1,0,1,circuit(1,0,1))\n",
    "    print(1,1,0,circuit(1,1,0))\n",
    "    print(1,1,1,circuit(1,1,1))\n",
    "    "
   ]
  },
  {
   "cell_type": "code",
   "execution_count": null,
   "metadata": {},
   "outputs": [],
   "source": [
    "## based on Vitya's code"
   ]
  },
  {
   "cell_type": "raw",
   "metadata": {},
   "source": [
    "#Vitya's code:\n",
    "def bool_output(A, B, C):\n",
    "        def or_gate():    ## SE: I would pass A,B as inputs to this function\n",
    "            if A or B == 0:\n",
    "                return 0\n",
    "            else:\n",
    "                return 1\n",
    "\n",
    "        def and_gate():  ## SE: I would pass A,B as inputs to this function. \n",
    "                         ## This function has a bug: it is the same as or_gate. take a look my and_gate(in_1,in_2)\n",
    "            if A or B == 0: \n",
    "                return 0\n",
    "            else:\n",
    "                return 1\n",
    "\n",
    "def circuit(A, B, C):\n",
    "    if bool_output(A, B, C) == (0,0,0):\n",
    "        return True\n",
    "    else:\n",
    "        return false\n",
    "\n"
   ]
  },
  {
   "cell_type": "code",
   "execution_count": null,
   "metadata": {},
   "outputs": [],
   "source": [
    "#Vitya's code, modified by SE\n",
    "def bool_output(A, B, C):\n",
    "        def or_gate():    ## SE: I would pass A,B as inputs to this function\n",
    "            if A or B == 0:\n",
    "                return 0\n",
    "            else:\n",
    "                return 1\n",
    "\n",
    "        def and_gate():  ## SE: I would pass A,B as inputs to this function. \n",
    "                         ## This function has a bug: it is the same as or_gate. take a look my and_gate(in_1,in_2)\n",
    "            if A and B == 1: \n",
    "                return 1\n",
    "            else:\n",
    "                return 0\n",
    "        \n",
    "        def inverter_gate(in_1):\n",
    "            if (in_1 == 1):\n",
    "                return 0\n",
    "            else:\n",
    "                return 1\n",
    "            \n",
    "        def circuit_Z (A, B, C):\n",
    "            X = and_gate(A, B)\n",
    "            Y = or_gate(X, C)\n",
    "        return (Y)\n",
    "\n",
    "\n",
    "\n",
    "def circuit(A, B, C):\n",
    "    if bool_output(A, B, C) == (0,0,0):\n",
    "        return True\n",
    "    else:\n",
    "        return false"
   ]
  }
 ],
 "metadata": {
  "kernelspec": {
   "display_name": "Python 3",
   "language": "python",
   "name": "python3"
  },
  "language_info": {
   "codemirror_mode": {
    "name": "ipython",
    "version": 3
   },
   "file_extension": ".py",
   "mimetype": "text/x-python",
   "name": "python",
   "nbconvert_exporter": "python",
   "pygments_lexer": "ipython3",
   "version": "3.7.4"
  }
 },
 "nbformat": 4,
 "nbformat_minor": 2
}
