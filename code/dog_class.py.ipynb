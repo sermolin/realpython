{
 "cells": [
  {
   "cell_type": "code",
   "execution_count": 3,
   "metadata": {},
   "outputs": [],
   "source": [
    "# https://realpython.com/python3-object-oriented-programming/"
   ]
  },
  {
   "cell_type": "code",
   "execution_count": 7,
   "metadata": {},
   "outputs": [],
   "source": [
    "class Dog:\n",
    "\n",
    "    # Class Attribute\n",
    "    species = 'mammal'\n",
    "\n",
    "    # Initializer / Instance Attributes\n",
    "    def __init__(self, name, age):\n",
    "        self.name = name\n",
    "        self.age = age"
   ]
  },
  {
   "cell_type": "code",
   "execution_count": 10,
   "metadata": {},
   "outputs": [],
   "source": [
    "a=Dog('Cooper', 5)"
   ]
  },
  {
   "cell_type": "code",
   "execution_count": 11,
   "metadata": {},
   "outputs": [
    {
     "data": {
      "text/plain": [
       "__main__.Dog"
      ]
     },
     "execution_count": 11,
     "metadata": {},
     "output_type": "execute_result"
    }
   ],
   "source": [
    "type(a)"
   ]
  },
  {
   "cell_type": "code",
   "execution_count": 12,
   "metadata": {},
   "outputs": [
    {
     "name": "stdout",
     "output_type": "stream",
     "text": [
      "Cooper is 5 and Jasper is 10.\n"
     ]
    }
   ],
   "source": [
    "Cooper = Dog('Cooper', 5)\n",
    "Jasper = Dog('Jasper', 10)\n",
    "print(\"{} is {} and {} is {}.\".format(\n",
    "    Cooper.name, Cooper.age, Jasper.name, Jasper.age))"
   ]
  },
  {
   "cell_type": "code",
   "execution_count": 17,
   "metadata": {},
   "outputs": [
    {
     "name": "stdout",
     "output_type": "stream",
     "text": [
      "Cooper is a mammal!\n"
     ]
    }
   ],
   "source": [
    "# Is Philo a mammal?\n",
    "if Cooper.species == \"mammal\":\n",
    "    print(\"{0} is a {1}!\".format(Cooper.name, Cooper.species))"
   ]
  },
  {
   "cell_type": "code",
   "execution_count": 18,
   "metadata": {},
   "outputs": [
    {
     "name": "stdout",
     "output_type": "stream",
     "text": [
      "mammal is a Cooper!\n"
     ]
    }
   ],
   "source": [
    "# Is Philo a mammal?\n",
    "if Cooper.species == \"mammal\":\n",
    "    print(\"{1} is a {0}!\".format(Cooper.name, Cooper.species))"
   ]
  },
  {
   "cell_type": "code",
   "execution_count": 23,
   "metadata": {},
   "outputs": [
    {
     "name": "stdout",
     "output_type": "stream",
     "text": [
      "The oldest dog is 14 years old.\n"
     ]
    }
   ],
   "source": [
    "#Excercise 1\n",
    "Cooper = Dog('Cooper', 5)\n",
    "Jasper = Dog('Jasper', 10)\n",
    "Koola = Dog ('Koola', 14)\n",
    "\n",
    "def get_biggest_number(*args):\n",
    "    oldest = max(*args)\n",
    "    return(oldest)\n",
    "\n",
    "test = get_biggest_number(Cooper.age, Jasper.age, Koola.age)\n",
    "print(\"The oldest dog is {} years old.\".format(test))"
   ]
  },
  {
   "cell_type": "code",
   "execution_count": null,
   "metadata": {},
   "outputs": [],
   "source": []
  }
 ],
 "metadata": {
  "kernelspec": {
   "display_name": "Python 3",
   "language": "python",
   "name": "python3"
  },
  "language_info": {
   "codemirror_mode": {
    "name": "ipython",
    "version": 3
   },
   "file_extension": ".py",
   "mimetype": "text/x-python",
   "name": "python",
   "nbconvert_exporter": "python",
   "pygments_lexer": "ipython3",
   "version": "3.7.0"
  }
 },
 "nbformat": 4,
 "nbformat_minor": 2
}
